{
 "cells": [
  {
   "cell_type": "code",
   "execution_count": 3,
   "id": "f8290f2a",
   "metadata": {},
   "outputs": [
    {
     "name": "stdout",
     "output_type": "stream",
     "text": [
      "Requirement already satisfied: pandas in c:\\users\\lenovo 1\\anaconda3\\lib\\site-packages (1.5.3)\n",
      "Requirement already satisfied: matplotlib in c:\\users\\lenovo 1\\anaconda3\\lib\\site-packages (3.7.0)\n",
      "Requirement already satisfied: openpyxl in c:\\users\\lenovo 1\\anaconda3\\lib\\site-packages (3.0.10)\n",
      "Requirement already satisfied: schedule in c:\\users\\lenovo 1\\anaconda3\\lib\\site-packages (1.2.2)\n",
      "Requirement already satisfied: python-dateutil>=2.8.1 in c:\\users\\lenovo 1\\anaconda3\\lib\\site-packages (from pandas) (2.8.2)\n",
      "Requirement already satisfied: numpy>=1.21.0 in c:\\users\\lenovo 1\\anaconda3\\lib\\site-packages (from pandas) (1.23.5)\n",
      "Requirement already satisfied: pytz>=2020.1 in c:\\users\\lenovo 1\\anaconda3\\lib\\site-packages (from pandas) (2022.7)\n",
      "Requirement already satisfied: contourpy>=1.0.1 in c:\\users\\lenovo 1\\anaconda3\\lib\\site-packages (from matplotlib) (1.0.5)\n",
      "Requirement already satisfied: kiwisolver>=1.0.1 in c:\\users\\lenovo 1\\anaconda3\\lib\\site-packages (from matplotlib) (1.4.4)\n",
      "Requirement already satisfied: pillow>=6.2.0 in c:\\users\\lenovo 1\\anaconda3\\lib\\site-packages (from matplotlib) (9.4.0)\n",
      "Requirement already satisfied: pyparsing>=2.3.1 in c:\\users\\lenovo 1\\anaconda3\\lib\\site-packages (from matplotlib) (3.0.9)\n",
      "Requirement already satisfied: packaging>=20.0 in c:\\users\\lenovo 1\\anaconda3\\lib\\site-packages (from matplotlib) (22.0)\n",
      "Requirement already satisfied: fonttools>=4.22.0 in c:\\users\\lenovo 1\\anaconda3\\lib\\site-packages (from matplotlib) (4.25.0)\n",
      "Requirement already satisfied: cycler>=0.10 in c:\\users\\lenovo 1\\anaconda3\\lib\\site-packages (from matplotlib) (0.11.0)\n",
      "Requirement already satisfied: et_xmlfile in c:\\users\\lenovo 1\\anaconda3\\lib\\site-packages (from openpyxl) (1.1.0)\n",
      "Requirement already satisfied: six>=1.5 in c:\\users\\lenovo 1\\anaconda3\\lib\\site-packages (from python-dateutil>=2.8.1->pandas) (1.16.0)\n"
     ]
    }
   ],
   "source": [
    "!pip install pandas matplotlib openpyxl schedule"
   ]
  },
  {
   "cell_type": "code",
   "execution_count": 8,
   "id": "76e3cca2",
   "metadata": {},
   "outputs": [],
   "source": [
    "import pandas as pd\n",
    "\n",
    "# Load the dataset\n",
    "df = pd.read_csv(r\"C:\\Users\\Lenovo 1\\Downloads\\transport_data_sample.csv\") \n",
    "\n",
    "\n"
   ]
  },
  {
   "cell_type": "code",
   "execution_count": 9,
   "id": "8782d9a6",
   "metadata": {},
   "outputs": [],
   "source": [
    "df.dropna(inplace=True)\n",
    "df['Date'] = pd.to_datetime(df['Date'])"
   ]
  },
  {
   "cell_type": "code",
   "execution_count": 12,
   "id": "6b2b8699",
   "metadata": {},
   "outputs": [
    {
     "name": "stdout",
     "output_type": "stream",
     "text": [
      "        Date VehicleID  Distance  FuelUsed   Location DeliveryStatus\n",
      "0 2024-04-07     VH005    376.72     30.79    Chennai        On Time\n",
      "1 2024-01-13     VH005    308.42     20.58    Chennai        On Time\n",
      "2 2024-02-15     VH011    413.19     35.84     Mumbai        On Time\n",
      "3 2024-05-26     VH017    106.31      8.76      Delhi        On Time\n",
      "4 2024-03-24     VH005    446.62     40.98    Chennai        On Time\n",
      "5 2024-03-02     VH007    233.32     33.60  Hyderabad        Delayed\n",
      "6 2024-01-12     VH018    178.11     21.64      Delhi        On Time\n",
      "7 2024-01-25     VH001    483.29     33.58    Kolkata        On Time\n",
      "8 2024-03-28     VH005    426.05     64.15  Hyderabad        On Time\n",
      "9 2024-06-26     VH008    268.80     28.11  Bangalore        On Time\n"
     ]
    }
   ],
   "source": [
    "print(df.head(10))"
   ]
  },
  {
   "cell_type": "code",
   "execution_count": 13,
   "id": "f321700f",
   "metadata": {},
   "outputs": [],
   "source": [
    "distance_by_vehicle = df.groupby('VehicleID')['Distance'].sum()"
   ]
  },
  {
   "cell_type": "code",
   "execution_count": 14,
   "id": "0d3950b6",
   "metadata": {},
   "outputs": [],
   "source": [
    "df['FuelEfficiency'] = df['Distance'] / df['FuelUsed']\n",
    "avg_efficiency = df.groupby('VehicleID')['FuelEfficiency'].mean()"
   ]
  },
  {
   "cell_type": "code",
   "execution_count": 15,
   "id": "3ca099a4",
   "metadata": {},
   "outputs": [
    {
     "data": {
      "image/png": "[encoded data removed]",
      "text/plain": [
       "<Figure size 640x480 with 1 Axes>"
      ]
     },
     "metadata": {},
     "output_type": "display_data"
    }
   ],
   "source": [
    "import matplotlib.pyplot as plt\n",
    "\n",
    "distance_by_vehicle.plot(kind='bar', title='Total Distance per Vehicle')\n",
    "plt.ylabel('Distance (km)')\n",
    "plt.tight_layout()\n",
    "plt.savefig('distance_chart.png')\n",
    "plt.show()\n"
   ]
  },
  {
   "cell_type": "code",
   "execution_count": 16,
   "id": "b5a22e92",
   "metadata": {},
   "outputs": [],
   "source": [
    "\n",
    "with pd.ExcelWriter('Transport_Report.xlsx') as writer:\n",
    "    df.to_excel(writer, sheet_name='Raw Data', index=False)\n",
    "    distance_by_vehicle.to_frame('Total Distance').to_excel(writer, sheet_name='Distance Summary')\n",
    "    avg_efficiency.to_frame('Avg Fuel Efficiency').to_excel(writer, sheet_name='Efficiency Summary')\n"
   ]
  },
  {
   "cell_type": "code",
   "execution_count": null,
   "id": "ec98410c",
   "metadata": {},
   "outputs": [],
   "source": [
    "import schedule\n",
    "import time\n",
    "\n",
    "def generate_report():\n",
    "    print(\"Generating transport report...\")\n",
    "    # Your full data pipeline here\n",
    "\n",
    "schedule.every().day.at(\"07:00\").do(generate_report)\n",
    "\n",
    "while True:\n",
    "    schedule.run_pending()\n",
    "    time.sleep(60)\n"
   ]
  },
  {
   "cell_type": "code",
   "execution_count": null,
   "id": "0e2d4c2f",
   "metadata": {},
   "outputs": [],
   "source": []
  }
 ],
 "metadata": {
  "kernelspec": {
   "display_name": "Python 3 (ipykernel)",
   "language": "python",
   "name": "python3"
  },
  "language_info": {
   "codemirror_mode": {
    "name": "ipython",
    "version": 3
   },
   "file_extension": ".py",
   "mimetype": "text/x-python",
   "name": "python",
   "nbconvert_exporter": "python",
   "pygments_lexer": "ipython3",
   "version": "3.10.9"
  }
 },
 "nbformat": 4,
 "nbformat_minor": 5
}
